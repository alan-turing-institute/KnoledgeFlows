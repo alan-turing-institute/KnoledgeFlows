{
 "cells": [
  {
   "cell_type": "code",
   "execution_count": null,
   "metadata": {
    "slideshow": {
     "slide_type": "skip"
    }
   },
   "outputs": [],
   "source": [
    "import igraph\n",
    "import pandas as pd\n",
    "import matplotlib.pyplot as plt\n",
    "import numpy as np\n",
    "import math\n",
    "import matplotlib.patches as mpatches\n",
    "import matplotlib.pyplot as plt\n",
    "import os\n",
    "os.chdir(\"../src\")\n",
    "from build_network_object import build_network_object\n",
    "from draw_network_by_classification import draw_network_by_classification, compare_degrees_strength\n",
    "from draw_adjacency_matrix import draw_adjacency_matrix\n",
    "from draw_and_print_communities import draw_and_print_communities\n",
    "from correlations import correlation_industry_pairs, correlation_network_degree,correlation_adjacency_matrix\n",
    "import seaborn as sns"
   ]
  },
  {
   "cell_type": "markdown",
   "metadata": {
    "slideshow": {
     "slide_type": "slide"
    }
   },
   "source": [
    "# Comparison between Flows and Connection algorithms for 2014-2018 matrices "
   ]
  },
  {
   "cell_type": "markdown",
   "metadata": {
    "slideshow": {
     "slide_type": "subslide"
    }
   },
   "source": [
    "## Flows\n"
   ]
  },
  {
   "cell_type": "code",
   "execution_count": null,
   "metadata": {
    "slideshow": {
     "slide_type": "slide"
    }
   },
   "outputs": [],
   "source": [
    "label1 = \"Table3_Reduced_matrix_2014_2018_flows\"\n",
    "reduced_matrix_2014_2018 = pd.read_csv(\"../data/\"+label1+\".csv\", index_col=0)\n",
    "\n",
    "reduced_matrix_2014_2018_flows = reduced_matrix_2014_2018[reduced_matrix_2014_2018['StartIndst']!=0]\n",
    "\n",
    "sub_matrix_2014_2018_less1 = reduced_matrix_2014_2018_flows[reduced_matrix_2014_2018_flows['weight']<1].sort_values(by=['weight'], ascending=False)\n",
    "sub_matrix_2014_2018_flows = sub_matrix_2014_2018_less1[sub_matrix_2014_2018_less1['weight']>0].sort_values(by=['weight'], ascending=False)\n",
    "\n",
    "print (\"Number of links:\", sub_matrix_2014_2018_flows.shape[0]/2)\n",
    "print (\"Number of 4-digit industries observed:\")\n",
    "print (len(np.unique([sub_matrix_2014_2018_flows['StartIndst'].values,sub_matrix_2014_2018_flows['FinalIndst'].values])))\n",
    "sub_matrix_2014_2018_flows[1:15]"
   ]
  },
  {
   "cell_type": "markdown",
   "metadata": {
    "slideshow": {
     "slide_type": "subslide"
    }
   },
   "source": [
    "## Connections\n"
   ]
  },
  {
   "cell_type": "code",
   "execution_count": null,
   "metadata": {
    "slideshow": {
     "slide_type": "slide"
    }
   },
   "outputs": [],
   "source": [
    "label2 = \"Table4_Reduced_matrix_2014_2018_connections\"\n",
    "reduced_matrix_2014_2018_conn = pd.read_csv(\"../data/\"+label2+\".csv\", index_col=0)\n",
    "\n",
    "reduced_matrix_2014_2018_conn = reduced_matrix_2014_2018_conn[reduced_matrix_2014_2018_conn['StartIndst']!=0]\n",
    "\n",
    "\n",
    "sub_matrix_2014_2018_conn_less1 = reduced_matrix_2014_2018_conn[reduced_matrix_2014_2018_conn['weight']<1]\n",
    "sub_matrix_2014_2018_conn = sub_matrix_2014_2018_conn_less1[sub_matrix_2014_2018_conn_less1['weight']>0]\n",
    "\n",
    "print (\"Number of links:\", sub_matrix_2014_2018_conn.shape[0]/2)\n",
    "print (\"Number of 4-digit industries observed:\")\n",
    "print (len(np.unique([sub_matrix_2014_2018_conn['StartIndst'].values,sub_matrix_2014_2018_conn['FinalIndst'].values])))\n",
    "\n",
    "sub_matrix_2014_2018_conn.sort_values(by=['weight'], ascending=False)[1:15]\n",
    "\n"
   ]
  },
  {
   "cell_type": "code",
   "execution_count": null,
   "metadata": {},
   "outputs": [],
   "source": [
    "correlation_industry_pairs(sub_matrix_2014_2018_conn_less1,sub_matrix_2014_2018_less1)\n",
    "\n",
    "\n",
    "correlation_industry_pairs(sub_matrix_2014_2018_conn_less1,sub_matrix_2014_2018_less1,'counts')\n"
   ]
  },
  {
   "cell_type": "code",
   "execution_count": null,
   "metadata": {},
   "outputs": [],
   "source": [
    "correlation_industry_pairs(sub_matrix_2014_2018_conn_less1[sub_matrix_2014_2018_conn_less1['Counts']<11],sub_matrix_2014_2018_less1,'weight')\n",
    "\n",
    "\n",
    "correlation_industry_pairs(sub_matrix_2014_2018_conn_less1[sub_matrix_2014_2018_conn_less1['Counts']>100],sub_matrix_2014_2018_less1,'weight')\n"
   ]
  },
  {
   "cell_type": "code",
   "execution_count": null,
   "metadata": {
    "slideshow": {
     "slide_type": "skip"
    }
   },
   "outputs": [],
   "source": [
    "Gm_simple_2014_2018_flows = build_network_object(reduced_matrix_2014_2018_flows,'weight')\n",
    "Gm_simple_2014_2018_conn = build_network_object(reduced_matrix_2014_2018_conn,'weight')"
   ]
  },
  {
   "cell_type": "markdown",
   "metadata": {
    "slideshow": {
     "slide_type": "subslide"
    }
   },
   "source": [
    "## Degree comparison:"
   ]
  },
  {
   "cell_type": "code",
   "execution_count": null,
   "metadata": {
    "slideshow": {
     "slide_type": "slide"
    }
   },
   "outputs": [],
   "source": [
    "print ('NETWORK OF flows')\n",
    "compare_degrees_strength(Gm_simple_2014_2018_flows)\n",
    "print()\n",
    "print()\n",
    "print ('NETWORK OF connections')\n",
    "compare_degrees_strength(Gm_simple_2014_2018_conn)"
   ]
  },
  {
   "cell_type": "code",
   "execution_count": null,
   "metadata": {},
   "outputs": [],
   "source": [
    "correlation_network_degree(Gm_simple_2014_2018_conn,Gm_simple_2014_2018_flows,'strength')\n",
    "correlation_network_degree(Gm_simple_2014_2018_conn,Gm_simple_2014_2018_flows,'degree')\n"
   ]
  },
  {
   "cell_type": "markdown",
   "metadata": {
    "slideshow": {
     "slide_type": "slide"
    }
   },
   "source": [
    "## Adjacency matrix:\n",
    "### Flows:"
   ]
  },
  {
   "cell_type": "code",
   "execution_count": null,
   "metadata": {
    "slideshow": {
     "slide_type": "subslide"
    }
   },
   "outputs": [],
   "source": [
    "draw_adjacency_matrix(reduced_matrix_2014_2018_flows,['StartIndst','FinalIndst'],'weight')"
   ]
  },
  {
   "cell_type": "markdown",
   "metadata": {
    "slideshow": {
     "slide_type": "slide"
    }
   },
   "source": [
    "### Connections:"
   ]
  },
  {
   "cell_type": "code",
   "execution_count": null,
   "metadata": {
    "scrolled": true,
    "slideshow": {
     "slide_type": "subslide"
    }
   },
   "outputs": [],
   "source": [
    "draw_adjacency_matrix(reduced_matrix_2014_2018_conn,['StartIndst','FinalIndst'],'weight')"
   ]
  },
  {
   "cell_type": "code",
   "execution_count": null,
   "metadata": {},
   "outputs": [],
   "source": [
    "correlation_adjacency_matrix(reduced_matrix_2014_2018_conn,reduced_matrix_2014_2018_flows,'weight')"
   ]
  },
  {
   "cell_type": "markdown",
   "metadata": {
    "slideshow": {
     "slide_type": "slide"
    }
   },
   "source": [
    "# Network visualisation: by main industry"
   ]
  },
  {
   "cell_type": "code",
   "execution_count": null,
   "metadata": {
    "slideshow": {
     "slide_type": "subslide"
    }
   },
   "outputs": [],
   "source": [
    "draw_network_by_classification(Gm_simple_2014_2018_flows,'mainindustry','../img/'+label1+'/network_industry.png')"
   ]
  },
  {
   "cell_type": "markdown",
   "metadata": {
    "slideshow": {
     "slide_type": "subslide"
    }
   },
   "source": [
    "![title](../img/Table1_Reduced_matrix_2009_2013_flows/network_industry.png)\n"
   ]
  },
  {
   "cell_type": "code",
   "execution_count": null,
   "metadata": {
    "slideshow": {
     "slide_type": "slide"
    }
   },
   "outputs": [],
   "source": [
    "draw_network_by_classification(Gm_simple_2014_2018_conn,'mainindustry','../img/'+label2+'/network_industry.png')"
   ]
  },
  {
   "cell_type": "markdown",
   "metadata": {
    "slideshow": {
     "slide_type": "subslide"
    }
   },
   "source": [
    "![title](../img/Table3_Reduced_matrix_2014_2018_flows/network_industry.png)\n"
   ]
  },
  {
   "cell_type": "markdown",
   "metadata": {
    "slideshow": {
     "slide_type": "slide"
    }
   },
   "source": [
    "## Network visualisation: by community\n",
    "## Flows:"
   ]
  },
  {
   "cell_type": "code",
   "execution_count": null,
   "metadata": {
    "slideshow": {
     "slide_type": "skip"
    }
   },
   "outputs": [],
   "source": [
    "network_components_2014_2018_flows = Gm_simple_2014_2018_flows.components()\n",
    "network_largest_2014_2018_flows = network_components_2014_2018_flows.subgraphs()[0]\n"
   ]
  },
  {
   "cell_type": "code",
   "execution_count": null,
   "metadata": {
    "slideshow": {
     "slide_type": "skip"
    }
   },
   "outputs": [],
   "source": [
    "net_community_2014_2018_flows = network_largest_2014_2018_flows.community_multilevel(weights=network_largest_2014_2018_flows.es['weight'])\n",
    "print ('Modularity',net_community_2014_2018_flows.modularity)"
   ]
  },
  {
   "cell_type": "code",
   "execution_count": null,
   "metadata": {
    "slideshow": {
     "slide_type": "slide"
    }
   },
   "outputs": [],
   "source": [
    "draw_and_print_communities(network_largest_2014_2018_flows,net_community_2014_2018_flows,'../img/'+label1+'/network_community.png')"
   ]
  },
  {
   "cell_type": "markdown",
   "metadata": {
    "slideshow": {
     "slide_type": "slide"
    }
   },
   "source": [
    "## Connections:\n",
    "\n"
   ]
  },
  {
   "cell_type": "code",
   "execution_count": null,
   "metadata": {
    "slideshow": {
     "slide_type": "subslide"
    }
   },
   "outputs": [],
   "source": [
    "network_components_2014_2018_conn = Gm_simple_2014_2018_conn.components()\n",
    "network_largest_2014_2018_conn = network_components_2014_2018_conn.subgraphs()[0]\n",
    "net_community_2014_2018_conn = network_largest_2014_2018_conn.community_multilevel(weights=network_largest_2014_2018_conn.es['weight'])\n",
    "print ('Modularity',net_community_2014_2018_conn.modularity)"
   ]
  },
  {
   "cell_type": "code",
   "execution_count": null,
   "metadata": {
    "slideshow": {
     "slide_type": "slide"
    }
   },
   "outputs": [],
   "source": [
    "draw_and_print_communities(network_largest_2014_2018_conn,net_community_2014_2018_conn,'../img/'+label2+'/network_community.png')"
   ]
  },
  {
   "cell_type": "markdown",
   "metadata": {
    "slideshow": {
     "slide_type": "slide"
    }
   },
   "source": [
    "### Flows:"
   ]
  },
  {
   "cell_type": "markdown",
   "metadata": {
    "slideshow": {
     "slide_type": "subslide"
    }
   },
   "source": [
    "!['something here'](../img/Table3_Reduced_matrix_2014_2018_flows/network_community.png)\n"
   ]
  },
  {
   "cell_type": "markdown",
   "metadata": {
    "slideshow": {
     "slide_type": "slide"
    }
   },
   "source": [
    "### Connections:\n"
   ]
  },
  {
   "cell_type": "markdown",
   "metadata": {
    "slideshow": {
     "slide_type": "subslide"
    }
   },
   "source": [
    "![title](../img/Table4_Reduced_matrix_2014_2018_connections/network_community.png)\n"
   ]
  },
  {
   "cell_type": "code",
   "execution_count": null,
   "metadata": {},
   "outputs": [],
   "source": []
  }
 ],
 "metadata": {
  "celltoolbar": "Slideshow",
  "kernelspec": {
   "display_name": "Python 3",
   "language": "python",
   "name": "python3"
  },
  "language_info": {
   "codemirror_mode": {
    "name": "ipython",
    "version": 3
   },
   "file_extension": ".py",
   "mimetype": "text/x-python",
   "name": "python",
   "nbconvert_exporter": "python",
   "pygments_lexer": "ipython3",
   "version": "3.7.1"
  }
 },
 "nbformat": 4,
 "nbformat_minor": 1
}
